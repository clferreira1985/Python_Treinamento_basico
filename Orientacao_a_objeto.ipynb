{
  "nbformat": 4,
  "nbformat_minor": 0,
  "metadata": {
    "colab": {
      "provenance": [],
      "authorship_tag": "ABX9TyM0sVAJoplKSFG8kcbzf9uh",
      "include_colab_link": true
    },
    "kernelspec": {
      "name": "python3",
      "display_name": "Python 3"
    },
    "language_info": {
      "name": "python"
    }
  },
  "cells": [
    {
      "cell_type": "markdown",
      "metadata": {
        "id": "view-in-github",
        "colab_type": "text"
      },
      "source": [
        "<a href=\"https://colab.research.google.com/github/clferreira1985/Python_Treinamento_basico/blob/main/Orientacao_a_objeto.ipynb\" target=\"_parent\"><img src=\"https://colab.research.google.com/assets/colab-badge.svg\" alt=\"Open In Colab\"/></a>"
      ]
    },
    {
      "cell_type": "markdown",
      "source": [
        "### Exemplo de código 1: Definição de Classe e instanciação dos objetos"
      ],
      "metadata": {
        "id": "PrY_dmT8jhIt"
      }
    },
    {
      "cell_type": "code",
      "execution_count": 5,
      "metadata": {
        "id": "fgeze2iugRgH"
      },
      "outputs": [],
      "source": [
        "#Definição da classe\n",
        "class Aluno:\n",
        "\n",
        "  def __init__(self):\n",
        "    self.nome = 'Zé'\n",
        "    self.idade = 18\n",
        "  def dobra_idade(self):\n",
        "    return self.idade * 2"
      ]
    },
    {
      "cell_type": "code",
      "source": [
        "# Instanciação dos objetos\n",
        "\n",
        "aluno_1 = Aluno()\n",
        "aluno_1.nome = 'Maria' # definindo que o nome do Aluno_1 é 'Maria'\n",
        "\n",
        "aluno_2 = Aluno()\n",
        "aluno_2.idade = 21 # definindo que a idade do aluno_2 é 21"
      ],
      "metadata": {
        "id": "DHW4877ugxIx"
      },
      "execution_count": 6,
      "outputs": []
    },
    {
      "cell_type": "code",
      "source": [
        "print(aluno_1.nome) # imprime Maria (valor que definimos)\n",
        "print(aluno_2.nome) # imprime Zé (valor default)"
      ],
      "metadata": {
        "colab": {
          "base_uri": "https://localhost:8080/"
        },
        "id": "H4EvVQpJhUnU",
        "outputId": "0279f5ae-82aa-4033-b10b-7fa456388f6c"
      },
      "execution_count": 7,
      "outputs": [
        {
          "output_type": "stream",
          "name": "stdout",
          "text": [
            "Maria\n",
            "Zé\n"
          ]
        }
      ]
    },
    {
      "cell_type": "code",
      "source": [
        "print(aluno_1.dobra_idade()) # imprime a idade 18 (valor default)\n",
        "print(aluno_2.dobra_idade()) # imprime as idade 21 (valor que definimos)"
      ],
      "metadata": {
        "colab": {
          "base_uri": "https://localhost:8080/"
        },
        "id": "OlE6OZSiiHor",
        "outputId": "bb5f0f98-92d4-4d17-aef3-f4311e4d0d80"
      },
      "execution_count": 8,
      "outputs": [
        {
          "output_type": "stream",
          "name": "stdout",
          "text": [
            "36\n",
            "42\n"
          ]
        }
      ]
    },
    {
      "cell_type": "code",
      "source": [
        "# ao mudar o valor de nome em aluno_1, o aluno_2 continua inalterado\n",
        "aluno_1.nome = \"Ana\"\n",
        "\n",
        "print(\"Nome do Aluno_1:\", aluno_1.nome)\n",
        "print(\"Nome do Aluno_2:\", aluno_2.nome)"
      ],
      "metadata": {
        "colab": {
          "base_uri": "https://localhost:8080/"
        },
        "id": "q_O1u18WizdS",
        "outputId": "6cf06578-4b2b-4af7-9d35-8773b45d597c"
      },
      "execution_count": 10,
      "outputs": [
        {
          "output_type": "stream",
          "name": "stdout",
          "text": [
            "Nome do Aluno_1: Ana\n",
            "Nome do Aluno_2: Zé\n"
          ]
        }
      ]
    },
    {
      "cell_type": "markdown",
      "source": [
        "### Exemplo de código 2: Parâmetro self"
      ],
      "metadata": {
        "id": "Jcc0dgCOjuPc"
      }
    },
    {
      "cell_type": "code",
      "source": [
        "class Calculadora:\n",
        "  valor_interno = 5\n",
        "\n",
        "  def adiciona(self, numero):\n",
        "    # não podemos chmar a variável \"valor_interno\" sem self porque 'valor' é um atributo de calculadora\n",
        "    return self.valor_interno + numero;\n"
      ],
      "metadata": {
        "id": "ypKjkj64j6Hy"
      },
      "execution_count": 17,
      "outputs": []
    },
    {
      "cell_type": "code",
      "source": [
        "total = Calculadora()\n",
        "print('resultado = %d' % total.adiciona(3)) #self pegará o valor 5 de valor_interno e o valor 3 itá paara numero"
      ],
      "metadata": {
        "colab": {
          "base_uri": "https://localhost:8080/"
        },
        "id": "B92Ioo5Qk5c1",
        "outputId": "3375c403-f03a-4504-85b5-95a64a8d15d6"
      },
      "execution_count": 18,
      "outputs": [
        {
          "output_type": "stream",
          "name": "stdout",
          "text": [
            "resultado = 8\n"
          ]
        }
      ]
    },
    {
      "cell_type": "code",
      "source": [
        "total = Calculadora()\n",
        "print('resultado = %d' % total.adiciona(5)) #self pegará o valor 5 de valor_interno e o valor 3 itá paara numero"
      ],
      "metadata": {
        "colab": {
          "base_uri": "https://localhost:8080/"
        },
        "id": "MVILDzKilbkm",
        "outputId": "85a522fb-e10e-4f9d-db78-4196963ea967"
      },
      "execution_count": 19,
      "outputs": [
        {
          "output_type": "stream",
          "name": "stdout",
          "text": [
            "resultado = 10\n"
          ]
        }
      ]
    },
    {
      "cell_type": "markdown",
      "source": [
        "### Método \"__init__ \""
      ],
      "metadata": {
        "id": "47fa3a_um_lB"
      }
    },
    {
      "cell_type": "code",
      "source": [
        "class Carro:\n",
        "\n",
        "  def __init__(self):\n",
        "      self.cor = \"preto\""
      ],
      "metadata": {
        "id": "NtRAQ-F2m_KP"
      },
      "execution_count": 28,
      "outputs": []
    },
    {
      "cell_type": "code",
      "source": [
        "# um novo carro é criado com cor = \"Preto\"\n",
        "carro_1 = Carro()\n",
        "print(carro_1.cor)"
      ],
      "metadata": {
        "colab": {
          "base_uri": "https://localhost:8080/"
        },
        "id": "9B_Jessel0oT",
        "outputId": "75f65085-bc29-4f57-dfd5-9bda42c0e6b6"
      },
      "execution_count": 29,
      "outputs": [
        {
          "output_type": "stream",
          "name": "stdout",
          "text": [
            "preto\n"
          ]
        }
      ]
    },
    {
      "cell_type": "code",
      "source": [
        "#alterando o valor da color de carro_1 para 'branco'\n",
        "carro_1.cor = 'Branco'\n",
        "print(carro_1.cor)"
      ],
      "metadata": {
        "colab": {
          "base_uri": "https://localhost:8080/"
        },
        "id": "FY1qoz2ppX3J",
        "outputId": "d730a624-2588-459e-ac98-62aaa26e04ef"
      },
      "execution_count": 30,
      "outputs": [
        {
          "output_type": "stream",
          "name": "stdout",
          "text": [
            "Branco\n"
          ]
        }
      ]
    },
    {
      "cell_type": "code",
      "source": [
        "class Carro2:\n",
        "  def __init__ (self, cor):\n",
        "    self.cor = cor\n",
        "  "
      ],
      "metadata": {
        "id": "TDEbzpVdqSTH"
      },
      "execution_count": 31,
      "outputs": []
    },
    {
      "cell_type": "code",
      "source": [
        "# um novo carro é criado com cor = \"azul\"\n",
        "\n",
        "carro_2 = Carro2(\"azul\")\n",
        "print(carro_2.cor)"
      ],
      "metadata": {
        "colab": {
          "base_uri": "https://localhost:8080/"
        },
        "id": "_Y-s6rOVqeKG",
        "outputId": "26902c29-fd1a-4609-c909-ad563cedca42"
      },
      "execution_count": 34,
      "outputs": [
        {
          "output_type": "stream",
          "name": "stdout",
          "text": [
            "azul\n"
          ]
        }
      ]
    },
    {
      "cell_type": "code",
      "source": [
        "carro_2.cor = \"branco\"\n",
        "print(carro_2.cor)"
      ],
      "metadata": {
        "colab": {
          "base_uri": "https://localhost:8080/"
        },
        "id": "u7Ueuu8Cquvy",
        "outputId": "fb8bcf17-62be-4b4f-aef9-44f1fba6e0d7"
      },
      "execution_count": 35,
      "outputs": [
        {
          "output_type": "stream",
          "name": "stdout",
          "text": [
            "branco\n"
          ]
        }
      ]
    },
    {
      "cell_type": "code",
      "source": [],
      "metadata": {
        "id": "5tLeKbd-q5R6"
      },
      "execution_count": null,
      "outputs": []
    }
  ]
}