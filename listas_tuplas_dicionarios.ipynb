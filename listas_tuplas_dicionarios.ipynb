{
  "nbformat": 4,
  "nbformat_minor": 0,
  "metadata": {
    "colab": {
      "provenance": [],
      "authorship_tag": "ABX9TyMhVMi1cnWsBMODg/X8jyoM",
      "include_colab_link": true
    },
    "kernelspec": {
      "name": "python3",
      "display_name": "Python 3"
    },
    "language_info": {
      "name": "python"
    }
  },
  "cells": [
    {
      "cell_type": "markdown",
      "metadata": {
        "id": "view-in-github",
        "colab_type": "text"
      },
      "source": [
        "<a href=\"https://colab.research.google.com/github/clferreira1985/Python_Treinamento_basico/blob/main/listas_tuplas_dicionarios.ipynb\" target=\"_parent\"><img src=\"https://colab.research.google.com/assets/colab-badge.svg\" alt=\"Open In Colab\"/></a>"
      ]
    },
    {
      "cell_type": "markdown",
      "source": [
        "### Listas, Tuplas e Dicionários"
      ],
      "metadata": {
        "id": "PHdFSACSdHPh"
      }
    },
    {
      "cell_type": "code",
      "execution_count": 2,
      "metadata": {
        "colab": {
          "base_uri": "https://localhost:8080/"
        },
        "id": "OOQ5xjrZcuJx",
        "outputId": "7c1417e9-4d5e-4eb1-bda2-0c1b8e9ac9a1"
      },
      "outputs": [
        {
          "output_type": "stream",
          "name": "stdout",
          "text": [
            "[1, 10, 100, 1000]\n",
            "100\n"
          ]
        }
      ],
      "source": [
        "# Listas\n",
        "\n",
        "numeros = [1, 10, 100, 1000]\n",
        "print(numeros)\n",
        "\n",
        "# imprimir o elemento de índice 2\n",
        "print(numeros[2])"
      ]
    },
    {
      "cell_type": "code",
      "source": [
        "# operações de listas\n",
        "\n",
        "#inclução\n",
        "\n",
        "numeros += [10000, 100000]\n",
        "print(numeros)\n",
        "\n",
        "# incluir com append\n",
        "\n",
        "numeros.append(1000000)\n",
        "print(numeros)\n",
        "\n",
        "# substituir os itens nas posições 1 e 2 por 7\n",
        "\n",
        "numeros[1 : 3] = [7]\n",
        "print(numeros)\n",
        "\n",
        "# remover os itens nas posições 1 e 2 da lista\n",
        "numeros[1:3] = []\n",
        "print(numeros)\n",
        "\n",
        "# tamanho da lista\n",
        "print(len(numeros))"
      ],
      "metadata": {
        "colab": {
          "base_uri": "https://localhost:8080/"
        },
        "id": "1RAGw1N1e-K8",
        "outputId": "61007e6a-5041-433b-d55e-21e3998a9fd1"
      },
      "execution_count": 4,
      "outputs": [
        {
          "output_type": "stream",
          "name": "stdout",
          "text": [
            "[1, 10, 100, 1000, 10000, 100000]\n",
            "[1, 10, 100, 1000, 10000, 100000, 1000000]\n",
            "[1, 7, 1000, 10000, 100000, 1000000]\n",
            "[1, 10000, 100000, 1000000]\n",
            "4\n"
          ]
        }
      ]
    },
    {
      "cell_type": "code",
      "source": [
        "# Tuplas\n",
        "naipes = ('copas', 'ouros', 'espadas', 'paus')\n",
        "print(naipes)"
      ],
      "metadata": {
        "colab": {
          "base_uri": "https://localhost:8080/"
        },
        "id": "ITw6VaB5syl2",
        "outputId": "4925380d-5f9f-4c9b-abcf-43c2f87054db"
      },
      "execution_count": 6,
      "outputs": [
        {
          "output_type": "stream",
          "name": "stdout",
          "text": [
            "('copas', 'ouros', 'espadas', 'paus')\n"
          ]
        }
      ]
    },
    {
      "cell_type": "code",
      "source": [
        "# Dicionários\n",
        "\n",
        "# criar e imprimir um dicionário\n",
        "notas = {'Ana':8, 'Maria':5, 'Thais':10}\n",
        "print(notas)\n",
        "\n",
        "# acessar o valor correspondente\n",
        "print(notas['Thais'])\n",
        "\n",
        "# incluir novo item\n",
        "\n",
        "notas [\"Zaira\"] = 9\n",
        "print(notas)\n",
        "\n",
        "#remover item\n",
        "\n",
        "del notas ['Thais']\n",
        "print(notas)\n",
        "\n",
        "#checar se notas contém o item \"Maria\"\n",
        "\n",
        "print(\"Maria\" in notas)"
      ],
      "metadata": {
        "colab": {
          "base_uri": "https://localhost:8080/"
        },
        "id": "7XGKy3pYs9PD",
        "outputId": "d59ff92d-afd3-4df9-9d23-55bc34e86b25"
      },
      "execution_count": 7,
      "outputs": [
        {
          "output_type": "stream",
          "name": "stdout",
          "text": [
            "{'Ana': 8, 'Maria': 5, 'Thais': 10}\n",
            "10\n",
            "{'Ana': 8, 'Maria': 5, 'Thais': 10, 'Zaira': 9}\n",
            "{'Ana': 8, 'Maria': 5, 'Zaira': 9}\n",
            "True\n"
          ]
        }
      ]
    }
  ]
}