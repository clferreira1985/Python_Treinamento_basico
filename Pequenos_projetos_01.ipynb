{
  "nbformat": 4,
  "nbformat_minor": 0,
  "metadata": {
    "colab": {
      "provenance": [],
      "authorship_tag": "ABX9TyPU2zzymNelX3WWa8C57CdO",
      "include_colab_link": true
    },
    "kernelspec": {
      "name": "python3",
      "display_name": "Python 3"
    },
    "language_info": {
      "name": "python"
    }
  },
  "cells": [
    {
      "cell_type": "markdown",
      "metadata": {
        "id": "view-in-github",
        "colab_type": "text"
      },
      "source": [
        "<a href=\"https://colab.research.google.com/github/clferreira1985/Python_Treinamento_basico/blob/main/Pequenos_projetos_01.ipynb\" target=\"_parent\"><img src=\"https://colab.research.google.com/assets/colab-badge.svg\" alt=\"Open In Colab\"/></a>"
      ]
    },
    {
      "cell_type": "markdown",
      "source": [
        "Programa 01 : Quem é você?"
      ],
      "metadata": {
        "id": "Lq2VjQTCEWoa"
      }
    },
    {
      "cell_type": "code",
      "execution_count": 8,
      "metadata": {
        "colab": {
          "base_uri": "https://localhost:8080/"
        },
        "id": "JPzBVZPeDEVz",
        "outputId": "105cde59-1b3d-42b5-815d-dbc350305d23"
      },
      "outputs": [
        {
          "output_type": "stream",
          "name": "stdout",
          "text": [
            "Como posso te chamar: Cleiton\n",
            "Olá Cleiton\n"
          ]
        }
      ],
      "source": [
        "nome = str(input('Como posso te chamar: '))\n",
        "print(\"Olá\", nome)"
      ]
    },
    {
      "cell_type": "markdown",
      "source": [
        "Programa 02: Aluno aprovado?"
      ],
      "metadata": {
        "id": "gBCOna5hEcQ2"
      }
    },
    {
      "cell_type": "code",
      "source": [
        "print('**********************************')\n",
        "print(' O aluno foi aprovado?')\n",
        "print('**********************************')\n",
        "\n",
        "nota_1 = float(input(\"nota 1: \"))\n",
        "nota_2 = float(input('nota 2: '))\n",
        "nota_3 = float(input('nota 3: '))\n",
        "\n",
        "media = (nota_1 + nota_2 + nota_3)/3\n",
        "\n",
        "if media >=7:\n",
        "  print(\" O aluno foi Aprovado! Sua média foi %.2f\" %media)\n",
        "elif media < 3:\n",
        "  print(\" O aluno foi Reprovado! Sua média foi %.2f\" %media)\n",
        "else:\n",
        "  print(\" O aluno ficou em Prova final! Sua média foi %.2f\" %media)"
      ],
      "metadata": {
        "colab": {
          "base_uri": "https://localhost:8080/"
        },
        "id": "-mxVT6A5EhJj",
        "outputId": "6ec044e2-0f18-4efd-a192-5bd882ff9663"
      },
      "execution_count": 11,
      "outputs": [
        {
          "output_type": "stream",
          "name": "stdout",
          "text": [
            "**********************************\n",
            " O aluno foi aprovado?\n",
            "**********************************\n",
            "nota 1: 3\n",
            "nota 2: 2\n",
            "nota 3: 1\n",
            " O aluno foi Reprovado! Sua média foi 2.00\n"
          ]
        }
      ]
    },
    {
      "cell_type": "markdown",
      "source": [
        "\n",
        "Programa 03: Calculadora\n",
        "\n"
      ],
      "metadata": {
        "id": "tvzr6k1-G73y"
      }
    },
    {
      "cell_type": "code",
      "source": [],
      "metadata": {
        "id": "o-vc2XFfHB1k"
      },
      "execution_count": null,
      "outputs": []
    }
  ]
}