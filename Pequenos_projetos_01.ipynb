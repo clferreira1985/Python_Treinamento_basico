{
  "nbformat": 4,
  "nbformat_minor": 0,
  "metadata": {
    "colab": {
      "provenance": [],
      "authorship_tag": "ABX9TyNBiFYf3TnYlqL3x44PicZw",
      "include_colab_link": true
    },
    "kernelspec": {
      "name": "python3",
      "display_name": "Python 3"
    },
    "language_info": {
      "name": "python"
    }
  },
  "cells": [
    {
      "cell_type": "markdown",
      "metadata": {
        "id": "view-in-github",
        "colab_type": "text"
      },
      "source": [
        "<a href=\"https://colab.research.google.com/github/clferreira1985/Python_Treinamento_basico/blob/main/Pequenos_projetos_01.ipynb\" target=\"_parent\"><img src=\"https://colab.research.google.com/assets/colab-badge.svg\" alt=\"Open In Colab\"/></a>"
      ]
    },
    {
      "cell_type": "markdown",
      "source": [
        "Programa 01 : Quem é você?"
      ],
      "metadata": {
        "id": "Lq2VjQTCEWoa"
      }
    },
    {
      "cell_type": "code",
      "execution_count": null,
      "metadata": {
        "colab": {
          "base_uri": "https://localhost:8080/"
        },
        "id": "JPzBVZPeDEVz",
        "outputId": "105cde59-1b3d-42b5-815d-dbc350305d23"
      },
      "outputs": [
        {
          "output_type": "stream",
          "name": "stdout",
          "text": [
            "Como posso te chamar: Cleiton\n",
            "Olá Cleiton\n"
          ]
        }
      ],
      "source": [
        "nome = str(input('Como posso te chamar: '))\n",
        "print(\"Olá\", nome)"
      ]
    },
    {
      "cell_type": "markdown",
      "source": [
        "Programa 02: Aluno aprovado?"
      ],
      "metadata": {
        "id": "gBCOna5hEcQ2"
      }
    },
    {
      "cell_type": "code",
      "source": [
        "print('**********************************')\n",
        "print(' O aluno foi aprovado?')\n",
        "print('**********************************')\n",
        "\n",
        "nota_1 = float(input(\"nota 1: \"))\n",
        "nota_2 = float(input('nota 2: '))\n",
        "nota_3 = float(input('nota 3: '))\n",
        "\n",
        "media = (nota_1 + nota_2 + nota_3)/3\n",
        "\n",
        "if media >=7:\n",
        "  print(\" O aluno foi Aprovado! Sua média foi %.2f\" %media)\n",
        "elif media < 3:\n",
        "  print(\" O aluno foi Reprovado! Sua média foi %.2f\" %media)\n",
        "else:\n",
        "  print(\" O aluno ficou em Prova final! Sua média foi %.2f\" %media)"
      ],
      "metadata": {
        "colab": {
          "base_uri": "https://localhost:8080/"
        },
        "id": "-mxVT6A5EhJj",
        "outputId": "6ec044e2-0f18-4efd-a192-5bd882ff9663"
      },
      "execution_count": null,
      "outputs": [
        {
          "output_type": "stream",
          "name": "stdout",
          "text": [
            "**********************************\n",
            " O aluno foi aprovado?\n",
            "**********************************\n",
            "nota 1: 3\n",
            "nota 2: 2\n",
            "nota 3: 1\n",
            " O aluno foi Reprovado! Sua média foi 2.00\n"
          ]
        }
      ]
    },
    {
      "cell_type": "markdown",
      "source": [
        "\n",
        "Programa 03: Calculadora\n",
        "\n"
      ],
      "metadata": {
        "id": "tvzr6k1-G73y"
      }
    },
    {
      "cell_type": "code",
      "source": [
        "def bem_vindo():\n",
        "    print('*********************************************')\n",
        "    print(\"Calculadora simples em Python\")\n",
        "    print('*********************************************')\n",
        "    calcular()\n",
        "\n",
        "def calcular():\n",
        "\n",
        "    print(\"\\nQual operação deseja executar? (1) Soma (2) Subtração (3) Multiplicação (4) Divisão (5) Outra\")\n",
        "    operacao = int(input(\"Digite a operação a ser realizada:  \"))\n",
        "\n",
        "    if(operacao != 1 and operacao !=2 and operacao !=3 and operacao != 4 ):\n",
        "      print(\"Descupe, esta calculadora ainda não suporta outras operações. Por favor, execute o programa novamente.\")\n",
        "      return\n",
        "\n",
        "    primeiro_numero = int(input(\"digite o primeiro numero: \"))  \n",
        "    segundo_numero = int(input(\"digite o segundo numero: \"))  \n",
        "\n",
        "    if(operacao == 1):\n",
        "      print(\"O resultado é\" , primeiro_numero + segundo_numero)\n",
        "    elif(operacao == 2):\n",
        "      print('O resultado é', primeiro_numero - segundo_numero)\n",
        "    elif(operacao == 3):\n",
        "      print('O resultado é', primeiro_numero * segundo_numero)\n",
        "    else:\n",
        "      print('O resultado é', primeiro_numero / segundo_numero)\n",
        "      \n",
        "    calcular_outra_vez()\n",
        "\n",
        "def calcular_outra_vez():\n",
        "    outra_vez = input('Deseja realizar outra operação? Por favor, digite S para Sim ou N para Não: ')\n",
        "\n",
        "    if outra_vez.upper() == 'S' :\n",
        "      calcular()\n",
        "    elif outra_vez.upper() == 'N' :\n",
        "      print('Até a próxima!')\n",
        "    else:\n",
        "      print(\"Opção invalida.\")\n",
        "    calcular_outra_vez()"
      ],
      "metadata": {
        "id": "o-vc2XFfHB1k"
      },
      "execution_count": 52,
      "outputs": []
    },
    {
      "cell_type": "code",
      "source": [
        "bem_vindo()"
      ],
      "metadata": {
        "id": "-JOLQHXVQsIR",
        "outputId": "f0ad9741-2cf8-491f-f466-fea993b391d5",
        "colab": {
          "base_uri": "https://localhost:8080/"
        }
      },
      "execution_count": null,
      "outputs": [
        {
          "output_type": "stream",
          "name": "stdout",
          "text": [
            "*********************************************\n",
            "Calculadora simples em Python\n",
            "*********************************************\n",
            "\n",
            "Qual operação deseja executar? (1) Soma (2) Subtração (3) Multiplicação (4) Divisão (5) Outra\n",
            "Digite a operação a ser realizada:  2\n",
            "digite o primeiro numero: 2\n",
            "digite o segundo numero: 3\n",
            "O resultado é -1\n",
            "Deseja realizar outra operação? Por favor, digite S para Sim ou N para Não: S\n",
            "\n",
            "Qual operação deseja executar? (1) Soma (2) Subtração (3) Multiplicação (4) Divisão (5) Outra\n"
          ]
        }
      ]
    }
  ]
}