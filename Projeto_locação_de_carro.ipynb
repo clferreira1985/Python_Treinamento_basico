{
  "nbformat": 4,
  "nbformat_minor": 0,
  "metadata": {
    "colab": {
      "provenance": [],
      "authorship_tag": "ABX9TyMnCBuxpNF/drn0EneZaAVG",
      "include_colab_link": true
    },
    "kernelspec": {
      "name": "python3",
      "display_name": "Python 3"
    },
    "language_info": {
      "name": "python"
    }
  },
  "cells": [
    {
      "cell_type": "markdown",
      "metadata": {
        "id": "view-in-github",
        "colab_type": "text"
      },
      "source": [
        "<a href=\"https://colab.research.google.com/github/clferreira1985/Python_Treinamento_basico/blob/main/Projeto_loca%C3%A7%C3%A3o_de_carro.ipynb\" target=\"_parent\"><img src=\"https://colab.research.google.com/assets/colab-badge.svg\" alt=\"Open In Colab\"/></a>"
      ]
    },
    {
      "cell_type": "code",
      "execution_count": 3,
      "metadata": {
        "colab": {
          "base_uri": "https://localhost:8080/"
        },
        "id": "7Q3ReQBgnmyf",
        "outputId": "c2b8e778-e6d7-4d08-855e-59993408ea62"
      },
      "outputs": [
        {
          "output_type": "stream",
          "name": "stdout",
          "text": [
            "===========================\n",
            "Bem vindo à locadora de carros!\n",
            "==========================\n"
          ]
        }
      ],
      "source": [
        "import os\n",
        "\n",
        "carros = [('Chervrolet Tracker', 120),\n",
        "          ('Chervrolet Onix', 90),\n",
        "          ('Chevrolet Spin', 150),\n",
        "          ('Hyundai HB20', 85),\n",
        "          ('Hyundai Tucson', 120),\n",
        "          ('Fiat Uno', 60),\n",
        "          ('Fiat Mobi', 70),\n",
        "          ('Fiat Pulse', 130)   \n",
        "]\n",
        "alugandos = []\n",
        "\n",
        "print('===========================')\n",
        "print('Bem vindo à locadora de carros!')\n",
        "print('==========================')\n"
      ]
    },
    {
      "cell_type": "code",
      "source": [
        "def mostrar_lista_de_carros(lista_de_carros):\n",
        "    for i, car in enumerate(lista_de_carros):\n",
        "       print()"
      ],
      "metadata": {
        "id": "1Q7_6fHtvh0h"
      },
      "execution_count": 4,
      "outputs": []
    },
    {
      "cell_type": "code",
      "source": [
        "print(mostrar_lista_de_carros(carros))"
      ],
      "metadata": {
        "colab": {
          "base_uri": "https://localhost:8080/"
        },
        "id": "0X7aOFapC79T",
        "outputId": "0456fa3b-008f-42f6-fe6c-2990b6d0896d"
      },
      "execution_count": 10,
      "outputs": [
        {
          "output_type": "stream",
          "name": "stdout",
          "text": [
            "\n",
            "\n",
            "\n",
            "\n",
            "\n",
            "\n",
            "\n",
            "\n",
            "None\n"
          ]
        }
      ]
    }
  ]
}