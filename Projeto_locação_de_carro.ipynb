{
  "nbformat": 4,
  "nbformat_minor": 0,
  "metadata": {
    "colab": {
      "provenance": [],
      "authorship_tag": "ABX9TyMxoO/gUlWT5Idu2NQ7ovod",
      "include_colab_link": true
    },
    "kernelspec": {
      "name": "python3",
      "display_name": "Python 3"
    },
    "language_info": {
      "name": "python"
    }
  },
  "cells": [
    {
      "cell_type": "markdown",
      "metadata": {
        "id": "view-in-github",
        "colab_type": "text"
      },
      "source": [
        "<a href=\"https://colab.research.google.com/github/clferreira1985/Python_Treinamento_basico/blob/main/Projeto_loca%C3%A7%C3%A3o_de_carro.ipynb\" target=\"_parent\"><img src=\"https://colab.research.google.com/assets/colab-badge.svg\" alt=\"Open In Colab\"/></a>"
      ]
    },
    {
      "cell_type": "code",
      "execution_count": 1,
      "metadata": {
        "colab": {
          "base_uri": "https://localhost:8080/"
        },
        "id": "7Q3ReQBgnmyf",
        "outputId": "c730e548-5ad0-49d9-9f8c-1b3644f44398"
      },
      "outputs": [
        {
          "output_type": "stream",
          "name": "stderr",
          "text": [
            "<>:8: SyntaxWarning: 'tuple' object is not callable; perhaps you missed a comma?\n",
            "<>:8: SyntaxWarning: 'tuple' object is not callable; perhaps you missed a comma?\n",
            "<ipython-input-1-c3e7144e4b57>:8: SyntaxWarning: 'tuple' object is not callable; perhaps you missed a comma?\n",
            "  ('Fiat Uno', 60)\n"
          ]
        },
        {
          "output_type": "error",
          "ename": "TypeError",
          "evalue": "ignored",
          "traceback": [
            "\u001b[0;31m---------------------------------------------------------------------------\u001b[0m",
            "\u001b[0;31mTypeError\u001b[0m                                 Traceback (most recent call last)",
            "\u001b[0;32m<ipython-input-1-c3e7144e4b57>\u001b[0m in \u001b[0;36m<cell line: 3>\u001b[0;34m()\u001b[0m\n\u001b[1;32m      6\u001b[0m           \u001b[0;34m(\u001b[0m\u001b[0;34m'Hyundai HB20'\u001b[0m\u001b[0;34m,\u001b[0m \u001b[0;36m85\u001b[0m\u001b[0;34m)\u001b[0m\u001b[0;34m,\u001b[0m\u001b[0;34m\u001b[0m\u001b[0;34m\u001b[0m\u001b[0m\n\u001b[1;32m      7\u001b[0m           \u001b[0;34m(\u001b[0m\u001b[0;34m'Hyundai Tucson'\u001b[0m\u001b[0;34m,\u001b[0m \u001b[0;36m120\u001b[0m\u001b[0;34m)\u001b[0m\u001b[0;34m,\u001b[0m\u001b[0;34m\u001b[0m\u001b[0;34m\u001b[0m\u001b[0m\n\u001b[0;32m----> 8\u001b[0;31m           \u001b[0;34m(\u001b[0m\u001b[0;34m'Fiat Uno'\u001b[0m\u001b[0;34m,\u001b[0m \u001b[0;36m60\u001b[0m\u001b[0;34m)\u001b[0m\u001b[0;34m\u001b[0m\u001b[0;34m\u001b[0m\u001b[0m\n\u001b[0m\u001b[1;32m      9\u001b[0m           \u001b[0;34m(\u001b[0m\u001b[0;34m'Fiat Mobi'\u001b[0m\u001b[0;34m,\u001b[0m \u001b[0;36m70\u001b[0m\u001b[0;34m)\u001b[0m\u001b[0;34m\u001b[0m\u001b[0;34m\u001b[0m\u001b[0m\n\u001b[1;32m     10\u001b[0m           \u001b[0;34m(\u001b[0m\u001b[0;34m'Fiat Pulse'\u001b[0m\u001b[0;34m,\u001b[0m \u001b[0;36m130\u001b[0m\u001b[0;34m)\u001b[0m\u001b[0;34m\u001b[0m\u001b[0;34m\u001b[0m\u001b[0m\n",
            "\u001b[0;31mTypeError\u001b[0m: 'tuple' object is not callable"
          ]
        }
      ],
      "source": [
        "import os\n",
        "\n",
        "carros = [('Chervrolet Tracker', 120),\n",
        "          ('Chervrolet Onix', 90),\n",
        "          ('Chevrolet Spin', 150),\n",
        "          ('Hyundai HB20', 85),\n",
        "          ('Hyundai Tucson', 120),\n",
        "          ('Fiat Uno', 60)\n",
        "          ('Fiat Mobi', 70)\n",
        "          ('Fiat Pulse', 130)   \n",
        "]\n",
        "alugandos = []\n",
        "\n",
        "print('===========================')\n",
        "print('Bem vindo à locadora de carros!')\n",
        "print('==========================')\n"
      ]
    },
    {
      "cell_type": "code",
      "source": [
        "def mostrar_lista_de_carros(lista_de_carros):\n",
        "    for i, car in enumerate(lista_de_carros):\n",
        "       print()"
      ],
      "metadata": {
        "id": "1Q7_6fHtvh0h"
      },
      "execution_count": null,
      "outputs": []
    },
    {
      "cell_type": "code",
      "source": [
        "mostrar_lista_de_carros"
      ],
      "metadata": {
        "id": "0X7aOFapC79T"
      },
      "execution_count": null,
      "outputs": []
    }
  ]
}