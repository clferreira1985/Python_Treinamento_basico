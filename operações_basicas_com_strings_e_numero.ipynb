{
  "nbformat": 4,
  "nbformat_minor": 0,
  "metadata": {
    "colab": {
      "provenance": []
    },
    "kernelspec": {
      "name": "python3",
      "display_name": "Python 3"
    },
    "language_info": {
      "name": "python"
    }
  },
  "cells": [
    {
      "cell_type": "code",
      "source": [
        "# Variáveis: Definição e Tipos \n",
        "\n",
        "uma_string = \"Aluno\"\n",
        "um_inteiro = 7\n",
        "um_float = 7.584\n",
        "um_booleano = True\n"
      ],
      "metadata": {
        "id": "fppbyhd0MiTm"
      },
      "execution_count": 6,
      "outputs": []
    },
    {
      "cell_type": "code",
      "execution_count": 7,
      "metadata": {
        "colab": {
          "base_uri": "https://localhost:8080/"
        },
        "id": "NDxLsXALLrzg",
        "outputId": "46cc76bf-cd30-4afd-dfa6-885e4e9474af"
      },
      "outputs": [
        {
          "output_type": "stream",
          "name": "stdout",
          "text": [
            "Resultado da soma = 12\n",
            "Resultado da subtração = -5\n",
            "Resultado da multiplicação = -15\n",
            "Resultado da divisão = -3.75\n",
            "Resultado da potenciação = 16\n",
            "Resultado da resto da divisão = 1\n"
          ]
        }
      ],
      "source": [
        "#Operações de soma, subtração , multiplicação e divisão\n",
        "\n",
        "resultado_1 = 7 + 5\n",
        "resultado_2 = um_inteiro - resultado_1\n",
        "resultado_3 = resultado_2 * 3\n",
        "resultado_4 = resultado_3 / 4\n",
        "\n",
        "print(\"Resultado da soma = \" + str(resultado_1))\n",
        "print(\"Resultado da subtração = \" + str(resultado_2))\n",
        "print(\"Resultado da multiplicação = \" + str(resultado_3))\n",
        "print(\"Resultado da divisão = \" + str(resultado_4))\n",
        "\n",
        "resultado_5 = 2**4\n",
        "resultado_6 = 13%4\n",
        "\n",
        "print(\"Resultado da potenciação = \" + str(resultado_5))\n",
        "print(\"Resultado da resto da divisão = \" + str(resultado_6))\n",
        "\n",
        "\n"
      ]
    },
    {
      "cell_type": "code",
      "source": [
        "# decrementando 3 unidade\n",
        "\n",
        "um_inteiro -=3\n",
        "print(\"Resultado: \" + str(um_inteiro))\n",
        "\n",
        "#incrementando 5 unidades\n",
        "um_inteiro +=5\n",
        "print(\"Resultado: \" + str(um_inteiro))\n"
      ],
      "metadata": {
        "colab": {
          "base_uri": "https://localhost:8080/"
        },
        "id": "AK7LjlnTNtAe",
        "outputId": "d6457e8e-5966-42e5-fd83-1f64ca90782c"
      },
      "execution_count": 9,
      "outputs": [
        {
          "output_type": "stream",
          "name": "stdout",
          "text": [
            "Resultado: 4\n",
            "Resultado: 9\n"
          ]
        }
      ]
    },
    {
      "cell_type": "code",
      "source": [
        "# operações de igualdade\n",
        "\n",
        "variavel_um = 1\n",
        "variavel_dois = 2\n",
        "variavel_tres = 3\n",
        "\n",
        "equal = (variavel_um == variavel_dois) \n",
        "not_equal = (variavel_um != variavel_dois)\n",
        "\n",
        "print (\"Um igual a dois? \" + str(equal))\n",
        "print (\"Um é diferente de dois? \" + str(not_equal))\n",
        "print('um é maior do que dois? ' + str(variavel_um > variavel_dois))\n",
        "print('um é menor do que dois? ' + str(variavel_um < variavel_dois))"
      ],
      "metadata": {
        "colab": {
          "base_uri": "https://localhost:8080/"
        },
        "id": "TNd40cv6QUA5",
        "outputId": "e0f8d2a4-da70-449c-eb3c-7185c88dc055"
      },
      "execution_count": 11,
      "outputs": [
        {
          "output_type": "stream",
          "name": "stdout",
          "text": [
            "Um igual a dois? False\n",
            "Um é diferente de dois? True\n",
            "um é maior do que dois? False\n",
            "um é menor do que dois? True\n"
          ]
        }
      ]
    },
    {
      "cell_type": "markdown",
      "source": [
        "#### Strings\n",
        "\n",
        "###### As strings armazenam uma ou mais palavras em texto. Existem diversas operações úteis com strings, como:\n",
        "\n",
        "######concatenação de duas ou mais strings;\n",
        "######verificação do tamanho de uma string;\n",
        "######operações envolvendo indexação e substrings;\n",
        "######multiplicação de uma string por um número;\n",
        "######operador in;\n",
        "######escaping;\n",
        "######conversão para maiúsculas e minúsculas;\n",
        "######formatação"
      ],
      "metadata": {
        "id": "H6TELOT4R7SP"
      }
    },
    {
      "cell_type": "code",
      "source": [
        "# concatenação\n",
        "\n",
        "programacao = \"Programação\"\n",
        "oo = ' OO'\n",
        "programacao_oo = programacao + oo\n",
        "print(programacao_oo)\n",
        "\n",
        "# Tamanho\n",
        "\n",
        "print (len(programacao_oo))"
      ],
      "metadata": {
        "colab": {
          "base_uri": "https://localhost:8080/"
        },
        "id": "_1zzlhbrR8od",
        "outputId": "22424175-00e5-4451-a88c-4ff31be20ab6"
      },
      "execution_count": 14,
      "outputs": [
        {
          "output_type": "stream",
          "name": "stdout",
          "text": [
            "Programação OO\n",
            "14\n"
          ]
        }
      ]
    },
    {
      "cell_type": "code",
      "source": [
        "# indexação e Substrings\n",
        "\n",
        "frase = \"Python é muito divertido!\"\n",
        "\n",
        "# a indexação começa com 0\n",
        "print(frase[3])\n",
        "\n",
        "#use -1 para pegar a última letra\n",
        "print (frase[-1])\n",
        "\n",
        "#string[Start:end] - end não incluso\n",
        "\n",
        "print(frase[:4])\n",
        "print(frase[10:])\n",
        "print(frase[4:10])\n",
        "print(frase[:])\n"
      ],
      "metadata": {
        "colab": {
          "base_uri": "https://localhost:8080/"
        },
        "id": "oDDn69CoWKAe",
        "outputId": "d6d88c34-df70-4a1e-9d3c-177d25ce1c61"
      },
      "execution_count": 15,
      "outputs": [
        {
          "output_type": "stream",
          "name": "stdout",
          "text": [
            "h\n",
            "!\n",
            "Pyth\n",
            "uito divertido!\n",
            "on é m\n",
            "Python é muito divertido!\n"
          ]
        }
      ]
    },
    {
      "cell_type": "code",
      "source": [
        "# Multiplicação de um string por um número\n",
        "\n",
        "ola = 'olá'\n",
        "sete_olas = ola*7\n",
        "print(sete_olas)"
      ],
      "metadata": {
        "colab": {
          "base_uri": "https://localhost:8080/"
        },
        "id": "iDvg3qcBXB1C",
        "outputId": "a9a2e9cd-6413-4472-8790-dd9ddbc79980"
      },
      "execution_count": 16,
      "outputs": [
        {
          "output_type": "stream",
          "name": "stdout",
          "text": [
            "oláoláoláoláoláoláolá\n"
          ]
        }
      ]
    },
    {
      "cell_type": "code",
      "source": [
        "# Operador in\n",
        "\n",
        "programacao_python = \"Programação em Python\"\n",
        "\n",
        "#checa se a string contém \"Python\"\n",
        "print(\"Python\" in programacao_python)\n",
        "print(\"python\" in programacao_python)\n",
        "print(\"abacate\" in programacao_python)\n",
        "\n",
        "# Escaping\n",
        "\n",
        "print(\"Estou estudando \\n\" + programacao_python)\n",
        "\n",
        "# Maiúsculas e Minúsculas\n",
        "\n",
        "print(programacao_python.lower())\n",
        "print(programacao_python.upper())\n",
        "\n",
        "tudo_minuscula = 'aula de python'\n",
        "print(tudo_minuscula.capitalize()) #primeira letra maiuscula"
      ],
      "metadata": {
        "colab": {
          "base_uri": "https://localhost:8080/"
        },
        "id": "fPhemm_WXTYq",
        "outputId": "bccb21d1-b4f1-4e81-dc58-9933b9587c43"
      },
      "execution_count": 22,
      "outputs": [
        {
          "output_type": "stream",
          "name": "stdout",
          "text": [
            "True\n",
            "False\n",
            "False\n",
            "Estou estudando \n",
            "Programação em Python\n",
            "programação em python\n",
            "PROGRAMAÇÃO EM PYTHON\n",
            "Aula de python\n"
          ]
        }
      ]
    },
    {
      "cell_type": "code",
      "source": [
        "# formatação\n",
        "\n",
        "nome = \"Belinha\"\n",
        "numero_inteiro = 7\n",
        "numero_decimal = 7.584\n",
        "\n",
        "print (\"Olá, meu nome é %s! Tenho %d anos e %d reais\"\n",
        "        % (nome, numero_inteiro, numero_decimal))\n",
        "print (\"Olá, meu nome é %s! Tenho %d anos e %f reais\"\n",
        "        % (nome, numero_inteiro, numero_decimal))\n",
        "print (\"Olá, meu nome é %s! Tenho %d anos e %.2f reais\"\n",
        "        % (nome, numero_inteiro, numero_decimal))\n"
      ],
      "metadata": {
        "colab": {
          "base_uri": "https://localhost:8080/"
        },
        "id": "0bKLo2ncX-js",
        "outputId": "e65dcc5d-6275-4100-c6a1-ecc269e2fe8b"
      },
      "execution_count": 24,
      "outputs": [
        {
          "output_type": "stream",
          "name": "stdout",
          "text": [
            "Olá, meu nome é Belinha! Tenho 7 anos e 7 reais\n",
            "Olá, meu nome é Belinha! Tenho 7 anos e 7.584000 reais\n",
            "Olá, meu nome é Belinha! Tenho 7 anos e 7.58 reais\n"
          ]
        }
      ]
    }
  ]
}