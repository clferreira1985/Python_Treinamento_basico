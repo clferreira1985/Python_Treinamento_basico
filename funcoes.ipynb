{
  "nbformat": 4,
  "nbformat_minor": 0,
  "metadata": {
    "colab": {
      "provenance": [],
      "authorship_tag": "ABX9TyOt1BFSE/HeUmOPF/FqmlFb",
      "include_colab_link": true
    },
    "kernelspec": {
      "name": "python3",
      "display_name": "Python 3"
    },
    "language_info": {
      "name": "python"
    }
  },
  "cells": [
    {
      "cell_type": "markdown",
      "metadata": {
        "id": "view-in-github",
        "colab_type": "text"
      },
      "source": [
        "<a href=\"https://colab.research.google.com/github/clferreira1985/Python_Treinamento_basico/blob/main/funcoes.ipynb\" target=\"_parent\"><img src=\"https://colab.research.google.com/assets/colab-badge.svg\" alt=\"Open In Colab\"/></a>"
      ]
    },
    {
      "cell_type": "markdown",
      "source": [
        "## Funções"
      ],
      "metadata": {
        "id": "rmDUg7aE_mB5"
      }
    },
    {
      "cell_type": "code",
      "execution_count": 7,
      "metadata": {
        "colab": {
          "base_uri": "https://localhost:8080/"
        },
        "id": "LwTMvcF3-8MW",
        "outputId": "b04f7234-415a-4f9f-8aa7-45db0ac2f1ab"
      },
      "outputs": [
        {
          "output_type": "stream",
          "name": "stdout",
          "text": [
            "Hello, World!\n",
            "Oi, Mundo!\n",
            "Salut, Monde!\n",
            "Hola, Mundo!\n",
            "Hello, World!\n",
            "Oi, Mundo!\n",
            "Salut, Monde!\n",
            "Hola, Mundo!\n",
            "Hello, World!\n",
            "Oi, Mundo!\n",
            "Salut, Monde!\n",
            "Hola, Mundo!\n"
          ]
        }
      ],
      "source": [
        "#funções \n",
        "\n",
        "def hello_world():\n",
        "  print('Hello, World!')\n",
        "  print('Oi, Mundo!')\n",
        "  print('Salut, Monde!')\n",
        "  print('Hola, Mundo!')\n",
        "\n",
        "for i in range(3): \n",
        "    hello_world()"
      ]
    },
    {
      "cell_type": "code",
      "source": [
        "#funções com parâmetros\n",
        "\n",
        "# x é um parâmetro\n",
        "def uma_funcao(x):\n",
        "  print('x =%d' % x)\n",
        "\n",
        "uma_funcao(5)\n"
      ],
      "metadata": {
        "colab": {
          "base_uri": "https://localhost:8080/"
        },
        "id": "tVFhwZ9hA1Hf",
        "outputId": "3b36b4c3-d640-42d9-f26e-d9d328f39104"
      },
      "execution_count": 9,
      "outputs": [
        {
          "output_type": "stream",
          "name": "stdout",
          "text": [
            "x =5\n"
          ]
        }
      ]
    },
    {
      "cell_type": "code",
      "source": [
        "# funções com retorno\n",
        "\n",
        "def soma(a, b):\n",
        "  return a + b\n",
        "\n",
        "c = soma (3 , 4)\n",
        "print( \"c = %d\" % c)\n"
      ],
      "metadata": {
        "colab": {
          "base_uri": "https://localhost:8080/"
        },
        "id": "MY6NtPDcBN2x",
        "outputId": "34e77312-78a0-4e79-8784-d0521974c2a3"
      },
      "execution_count": 11,
      "outputs": [
        {
          "output_type": "stream",
          "name": "stdout",
          "text": [
            "c = 7\n"
          ]
        }
      ]
    },
    {
      "cell_type": "code",
      "source": [
        "# função com parâmetros defauld (padrão)\n",
        "\n",
        "def multiplica (a, b=2):\n",
        "  return a * b\n",
        "\n",
        "print(multiplica(5, 84))\n",
        "\n",
        "#como b tem um valor padrão, podemos passar apenas um argumento\n",
        "print(multiplica(7))"
      ],
      "metadata": {
        "colab": {
          "base_uri": "https://localhost:8080/"
        },
        "id": "4v8DJlV9B2Li",
        "outputId": "fff1d6d1-77e4-4d0e-b20f-3f1b5277f7f2"
      },
      "execution_count": 12,
      "outputs": [
        {
          "output_type": "stream",
          "name": "stdout",
          "text": [
            "420\n",
            "14\n"
          ]
        }
      ]
    }
  ]
}