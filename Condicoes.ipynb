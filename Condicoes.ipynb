{
  "nbformat": 4,
  "nbformat_minor": 0,
  "metadata": {
    "colab": {
      "provenance": [],
      "authorship_tag": "ABX9TyP+C6kgbUwNoV2XkxZUaWuJ",
      "include_colab_link": true
    },
    "kernelspec": {
      "name": "python3",
      "display_name": "Python 3"
    },
    "language_info": {
      "name": "python"
    }
  },
  "cells": [
    {
      "cell_type": "markdown",
      "metadata": {
        "id": "view-in-github",
        "colab_type": "text"
      },
      "source": [
        "<a href=\"https://colab.research.google.com/github/clferreira1985/Python_Treinamento_basico/blob/main/Condicoes.ipynb\" target=\"_parent\"><img src=\"https://colab.research.google.com/assets/colab-badge.svg\" alt=\"Open In Colab\"/></a>"
      ]
    },
    {
      "cell_type": "markdown",
      "source": [
        "## Condições If e loop\n"
      ],
      "metadata": {
        "id": "s4QdJNlW2EFJ"
      }
    },
    {
      "cell_type": "markdown",
      "source": [
        "### IF"
      ],
      "metadata": {
        "id": "ro9iiMsU4FoJ"
      }
    },
    {
      "cell_type": "code",
      "execution_count": 1,
      "metadata": {
        "colab": {
          "base_uri": "https://localhost:8080/"
        },
        "id": "SearE1iS1svI",
        "outputId": "c45f20f6-9eaa-4f72-9443-18190881389d"
      },
      "outputs": [
        {
          "output_type": "stream",
          "name": "stdout",
          "text": [
            "passou!\n",
            "Passou de novo!\n",
            "Ana tem 25 anos\n"
          ]
        }
      ],
      "source": [
        "nome = \"Ana\"\n",
        "idade = 25\n",
        "\n",
        "if nome == \"Ana\":\n",
        "  print(\"passou!\")\n",
        "\n",
        "if nome == \"Ana\" or idade ==17:\n",
        "  print('Passou de novo!')\n",
        "  print('%s tem %d anos' % (nome, idade))"
      ]
    },
    {
      "cell_type": "code",
      "source": [
        "# comandos if, elif e else\n",
        "\n",
        "dias = ['sábado' , 'domingo']\n",
        "\n",
        "if len(dias) == 0:\n",
        "  print('Lista vazia')\n",
        "elif len(dias) == 1:\n",
        "  print(\"só um dia\")\n",
        "else:\n",
        "  print(\"Tamanho %d\" % len(dias))\n"
      ],
      "metadata": {
        "colab": {
          "base_uri": "https://localhost:8080/"
        },
        "id": "ku5P--z_3Acs",
        "outputId": "0154f7be-6262-41ef-b8b5-bd20052dcfad"
      },
      "execution_count": 2,
      "outputs": [
        {
          "output_type": "stream",
          "name": "stdout",
          "text": [
            "Tamanho 2\n"
          ]
        }
      ]
    },
    {
      "cell_type": "markdown",
      "source": [
        "### Loop\n"
      ],
      "metadata": {
        "id": "2YAidP1_4IJ4"
      }
    },
    {
      "cell_type": "code",
      "source": [
        "# loop for\n",
        "\n",
        "for i in range(6):\n",
        "  print(i)"
      ],
      "metadata": {
        "colab": {
          "base_uri": "https://localhost:8080/"
        },
        "id": "OgeLo5bv3kyt",
        "outputId": "2662ab30-3cf0-49a3-bc24-b2d4ba81f1c2"
      },
      "execution_count": 5,
      "outputs": [
        {
          "output_type": "stream",
          "name": "stdout",
          "text": [
            "0\n",
            "1\n",
            "2\n",
            "3\n",
            "4\n",
            "5\n"
          ]
        }
      ]
    },
    {
      "cell_type": "code",
      "source": [
        "pares = [2, 4, 6, 8]\n",
        "for i in range(len(pares)):\n",
        "  print('Índice %d - Valor %d' %(i, pares[i]))"
      ],
      "metadata": {
        "colab": {
          "base_uri": "https://localhost:8080/"
        },
        "id": "5wcHUpw_6TlG",
        "outputId": "cb6ccf95-b20f-426f-8c90-c5ca4bdd6da9"
      },
      "execution_count": 8,
      "outputs": [
        {
          "output_type": "stream",
          "name": "stdout",
          "text": [
            "Índice 0 - Valor 2\n",
            "Índice 1 - Valor 4\n",
            "Índice 2 - Valor 6\n",
            "Índice 3 - Valor 8\n"
          ]
        }
      ]
    },
    {
      "cell_type": "code",
      "source": [
        "# Loop for usando string\n",
        "\n",
        "hello_world = \"Hello World!\"\n",
        "\n",
        "for ch in hello_world:\n",
        "  print(ch)\n",
        "\n",
        "lenght = 0\n",
        "for ch in hello_world:\n",
        "  lenght +=1\n",
        "print(\"Numero de caracteres: %d \" % lenght)"
      ],
      "metadata": {
        "colab": {
          "base_uri": "https://localhost:8080/"
        },
        "id": "tY8m31sU6_Dj",
        "outputId": "f0f50f4a-4feb-412c-9426-31f622e5ab85"
      },
      "execution_count": 10,
      "outputs": [
        {
          "output_type": "stream",
          "name": "stdout",
          "text": [
            "H\n",
            "e\n",
            "l\n",
            "l\n",
            "o\n",
            " \n",
            "W\n",
            "o\n",
            "r\n",
            "l\n",
            "d\n",
            "!\n",
            "Numero de caracteres: 12 \n"
          ]
        }
      ]
    },
    {
      "cell_type": "code",
      "source": [
        "# loop while\n",
        "\n",
        "numero = 1\n",
        "\n",
        "# imprimir de 1 a 7\n",
        "while numero <= 7:\n",
        "  print(numero)\n",
        "  numero += 1"
      ],
      "metadata": {
        "colab": {
          "base_uri": "https://localhost:8080/"
        },
        "id": "dm-Wmr845316",
        "outputId": "44121ca6-d6a8-4326-fcb6-018293c46c34"
      },
      "execution_count": 6,
      "outputs": [
        {
          "output_type": "stream",
          "name": "stdout",
          "text": [
            "1\n",
            "2\n",
            "3\n",
            "4\n",
            "5\n",
            "6\n",
            "7\n"
          ]
        }
      ]
    },
    {
      "cell_type": "code",
      "source": [
        "numero = 1\n",
        "quadrado = 1\n",
        "\n",
        "while quadrado <=24:\n",
        "  quadrado = numero **2\n",
        "  print(\"Número %d - Quadrado %d \" % (numero, quadrado))\n",
        "  numero +=1\n",
        "print(\"Ao sair do whlile, numero tem o valor %d \" % numero)"
      ],
      "metadata": {
        "colab": {
          "base_uri": "https://localhost:8080/"
        },
        "id": "aHzAqiXe8I1t",
        "outputId": "cfea7904-b630-42f5-d01c-7756e65d0111"
      },
      "execution_count": 11,
      "outputs": [
        {
          "output_type": "stream",
          "name": "stdout",
          "text": [
            "Número 1 - Quadrado 1 \n",
            "Número 2 - Quadrado 4 \n",
            "Número 3 - Quadrado 9 \n",
            "Número 4 - Quadrado 16 \n",
            "Número 5 - Quadrado 25 \n",
            "Ao sair do whlile, numero tem o valor 6 \n"
          ]
        }
      ]
    },
    {
      "cell_type": "code",
      "source": [
        "# break\n",
        "\n",
        "count = 0\n",
        "\n",
        "while True:\n",
        "  print(count)\n",
        "  count +=1\n",
        "  if count >=5:\n",
        "    break"
      ],
      "metadata": {
        "colab": {
          "base_uri": "https://localhost:8080/"
        },
        "id": "VtnWTHrf9bKa",
        "outputId": "d72a602c-1900-4605-d28e-146f7350c4b9"
      },
      "execution_count": 12,
      "outputs": [
        {
          "output_type": "stream",
          "name": "stdout",
          "text": [
            "0\n",
            "1\n",
            "2\n",
            "3\n",
            "4\n"
          ]
        }
      ]
    },
    {
      "cell_type": "code",
      "source": [
        "naipes = ['copas', 'ouros', 'espadas', 'paus']\n",
        "\n",
        "while True:\n",
        "  #pop(): retira e retorna o último item da lista\n",
        "  elemento = naipes.pop()\n",
        "  print(elemento)\n",
        "  if elemento == 'espadas':\n",
        "    break"
      ],
      "metadata": {
        "colab": {
          "base_uri": "https://localhost:8080/"
        },
        "id": "eH0v0zhg9u9b",
        "outputId": "23b48480-edf6-4774-d337-993c880cabb1"
      },
      "execution_count": 13,
      "outputs": [
        {
          "output_type": "stream",
          "name": "stdout",
          "text": [
            "paus\n",
            "espadas\n"
          ]
        }
      ]
    },
    {
      "cell_type": "code",
      "source": [
        "# continue\n",
        "\n",
        "for i in range(5):\n",
        "  if i == 3:\n",
        "    continue\n",
        "  print(i)"
      ],
      "metadata": {
        "colab": {
          "base_uri": "https://localhost:8080/"
        },
        "id": "jPeJni03-XfK",
        "outputId": "065e8ff7-1238-4753-da60-da70e5a44b20"
      },
      "execution_count": 14,
      "outputs": [
        {
          "output_type": "stream",
          "name": "stdout",
          "text": [
            "0\n",
            "1\n",
            "2\n",
            "4\n"
          ]
        }
      ]
    }
  ]
}