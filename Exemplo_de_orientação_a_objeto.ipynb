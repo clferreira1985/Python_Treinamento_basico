{
  "nbformat": 4,
  "nbformat_minor": 0,
  "metadata": {
    "colab": {
      "provenance": [],
      "authorship_tag": "ABX9TyOtC/MXIta2mr8wfQdCPiq+",
      "include_colab_link": true
    },
    "kernelspec": {
      "name": "python3",
      "display_name": "Python 3"
    },
    "language_info": {
      "name": "python"
    }
  },
  "cells": [
    {
      "cell_type": "markdown",
      "metadata": {
        "id": "view-in-github",
        "colab_type": "text"
      },
      "source": [
        "<a href=\"https://colab.research.google.com/github/clferreira1985/Python_Treinamento_basico/blob/main/Exemplo_de_orienta%C3%A7%C3%A3o_a_objeto.ipynb\" target=\"_parent\"><img src=\"https://colab.research.google.com/assets/colab-badge.svg\" alt=\"Open In Colab\"/></a>"
      ]
    },
    {
      "cell_type": "code",
      "execution_count": 1,
      "metadata": {
        "id": "ypyXHAZixhOJ"
      },
      "outputs": [],
      "source": [
        "# Herança \n",
        "# Classe Pessoa\n",
        "\n",
        "class Pessoa: \n",
        "  def __init__(self, nome, login, senha):\n",
        "    self.__nome = nome\n",
        "    self.__login = login\n",
        "    self.__senha = senha\n",
        "  def consulta_nome(self):\n",
        "    return self.__nome\n",
        "\n",
        "# Classe Aluno\n",
        "class Aluno (Pessoa):\n",
        "  def __init__ (self, nome, login, senha, curso):\n",
        "    Pessoa.__init__(self, nome, login, senha)\n",
        "    self.__curso = curso\n",
        "  def consulta_curso(self):\n",
        "    return self.__curso\n",
        "\n",
        "# Classe professor\n",
        "class Professor(Pessoa):\n",
        "  def __init__(self, nome, login, senha, titulacao):\n",
        "    Pessoa.__init__(self, nome, login, senha)\n",
        "    self.__titulacao = titulacao\n",
        "  def consulta_titulacao(self):\n",
        "    return self.__titulacao  "
      ]
    },
    {
      "cell_type": "code",
      "source": [
        "pessoa1 = Pessoa('Maria', 'mary', 'm123')\n",
        "print(pessoa1.consulta_nome())\n",
        "\n",
        "\n",
        "\n"
      ],
      "metadata": {
        "colab": {
          "base_uri": "https://localhost:8080/"
        },
        "id": "fUlBic9x0FmG",
        "outputId": "d610a389-82e0-4027-c925-d12f57299bd1"
      },
      "execution_count": 5,
      "outputs": [
        {
          "output_type": "stream",
          "name": "stdout",
          "text": [
            "Maria\n"
          ]
        }
      ]
    },
    {
      "cell_type": "code",
      "source": [
        "aluna1 = Aluno('Viviane', 'vivi', 'v123', 'Informática')\n",
        "print(aluna1.consulta_nome())\n",
        "print(aluna1.consulta_curso())"
      ],
      "metadata": {
        "colab": {
          "base_uri": "https://localhost:8080/"
        },
        "id": "hS3rvOzg0wK-",
        "outputId": "b9da6c2e-a6f6-47c4-c1f5-dc4ddec50815"
      },
      "execution_count": 8,
      "outputs": [
        {
          "output_type": "stream",
          "name": "stdout",
          "text": [
            "Viviane\n",
            "Informática\n"
          ]
        }
      ]
    },
    {
      "cell_type": "code",
      "source": [
        "prof1 = Professor('Tatiana', 'tati', 't123', 'Doutorado')\n",
        "print(prof1.consulta_nome())\n",
        "print(prof1.consulta_titulacao())"
      ],
      "metadata": {
        "colab": {
          "base_uri": "https://localhost:8080/"
        },
        "id": "e1maGDjZ0-IT",
        "outputId": "bd882770-0d23-440f-b7be-44717bb03718"
      },
      "execution_count": 9,
      "outputs": [
        {
          "output_type": "stream",
          "name": "stdout",
          "text": [
            "Tatiana\n",
            "Doutorado\n"
          ]
        }
      ]
    },
    {
      "cell_type": "code",
      "source": [
        "# Polimorfismo\n",
        "\n",
        "class EntradaUniversidade:\n",
        "  def __init__ (self):\n",
        "    pass\n",
        "  def permite_entrada(self, pessoa):\n",
        "    print('Pode entrar, ' + pessoa.consulta_nome())\n",
        "entrada = EntradaUniversidade()\n",
        "entrada.permite_entrada(prof1)\n",
        "    "
      ],
      "metadata": {
        "colab": {
          "base_uri": "https://localhost:8080/"
        },
        "id": "9sA2_7bM2HBs",
        "outputId": "024f3d49-84ef-49c4-8ae8-5798f9e65d16"
      },
      "execution_count": 10,
      "outputs": [
        {
          "output_type": "stream",
          "name": "stdout",
          "text": [
            "Pode entrar, Tatiana\n"
          ]
        }
      ]
    },
    {
      "cell_type": "code",
      "source": [
        "# Classe coordenador\n",
        "class Coordenador (Pessoa):\n",
        "  def __init__ (self, nome, login, senha):\n",
        "    Pessoa.__init__(self, nome, login, senha)\n",
        "coord1 = Coordenador('Marcos', 'mk', 'm123')\n",
        "entrada.permite_entrada(coord1)\n"
      ],
      "metadata": {
        "colab": {
          "base_uri": "https://localhost:8080/"
        },
        "id": "3fNJHxVA3Q8j",
        "outputId": "bee11e3f-8045-429f-bef3-119e7f39e95a"
      },
      "execution_count": 12,
      "outputs": [
        {
          "output_type": "stream",
          "name": "stdout",
          "text": [
            "Pode entrar, Marcos\n"
          ]
        }
      ]
    },
    {
      "cell_type": "code",
      "source": [
        "# Exemplo de associação\n",
        "class Aluno(Pessoa):\n",
        "  def __init__(self, nome, login, senha, curso, orientador):\n",
        "    Pessoa.__init__(self, nome, login, senha)\n",
        "    self.__curso = curso\n",
        "    self.orientador = orientador\n",
        "    def consulta_curso(self):\n",
        "      return self.__curso\n",
        "    def consulta_orientador(self):\n",
        "      return self.__orientador\n",
        "    def consulta_nome(self):\n",
        "      return self.nome    \n",
        "   "
      ],
      "metadata": {
        "id": "u4Vzr9r14hIA"
      },
      "execution_count": 13,
      "outputs": []
    },
    {
      "cell_type": "code",
      "source": [
        "professorMarcos = Professor(\"Marcos\", 'mk', 'm123', 'Doutor')\n",
        "novoAluno = Aluno(\"Isabela\", 'isa', 'i123', 'Engenharia', professorMarcos)"
      ],
      "metadata": {
        "id": "WAsTIjIA5oVy"
      },
      "execution_count": 14,
      "outputs": []
    },
    {
      "cell_type": "code",
      "source": [],
      "metadata": {
        "id": "8w8Y7MTS6tsl"
      },
      "execution_count": null,
      "outputs": []
    }
  ]
}